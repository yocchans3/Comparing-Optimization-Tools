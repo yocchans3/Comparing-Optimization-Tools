{
 "cells": [
  {
   "cell_type": "markdown",
   "metadata": {},
   "source": [
    "# 関数定義\n",
    "IDAJ HPより　　\n",
    "https://www.idaj.co.jp/blog/product/optimization/basic-cao-181219"
   ]
  },
  {
   "cell_type": "code",
   "execution_count": 1,
   "metadata": {},
   "outputs": [],
   "source": [
    "import numpy as np"
   ]
  },
  {
   "cell_type": "code",
   "execution_count": 52,
   "metadata": {},
   "outputs": [],
   "source": [
    "def beam(X):#(T, B, L, H, F, S):\n",
    "    T, B, L, H, F, S = X[0], X[1], X[2], X[3], X[4], X[5]\n",
    "    Wc, Mc = 100, 150\n",
    "    Young = 200 #(E/GPa) 鉄のヤング率参照\n",
    "    Wvol = H ** 2 * L\n",
    "    Mvol = T * B * (S + L)\n",
    "    Cost = (Wc * Wvol + Mc * Mvol) #最小化\n",
    "    Area = L * H * np.sqrt(2)\n",
    "    t1 = (F * (S + L/2))/(B * Area)\n",
    "    t2 = F/(2 * Area)\n",
    "    Disp = (F * S ** 3)/(4 * T ** 3 * B * Young) #最小化 \n",
    "    MaxS = np.sqrt(t1 ** 2 + t2 ** 2)\n",
    "    MaxT = (6 * S *F)/(T ** 2 * B)\n",
    "    \n",
    "    return np.c_[-Disp, -Cost]#, MaxS, MaxT, "
   ]
  },
  {
   "cell_type": "markdown",
   "metadata": {},
   "source": [
    "# PHYSBO\n",
    "よくわからん"
   ]
  },
  {
   "cell_type": "code",
   "execution_count": 3,
   "metadata": {},
   "outputs": [],
   "source": [
    "import numpy as np\n",
    "import matplotlib.pyplot as plt\n",
    "import physbo\n",
    "import itertools"
   ]
  },
  {
   "cell_type": "code",
   "execution_count": 48,
   "metadata": {},
   "outputs": [],
   "source": [
    "class simulator(object):\n",
    "    def __init__(self, X):\n",
    "        self.t = beam(X) \n",
    "        \n",
    "    def __call__(self, action):\n",
    "        return self.t[action]"
   ]
  },
  {
   "cell_type": "code",
   "execution_count": 69,
   "metadata": {},
   "outputs": [],
   "source": [
    "T = np.linspace(0.1, 100, 11)\n",
    "B = np.linspace(0.1, 100, 11)\n",
    "L = np.linspace(0.1, 50, 11)\n",
    "H = np.linspace(0.1, 30, 11)\n",
    "S = 500 * np.ones(11)\n",
    "F = 10 * np.ones(11)\n",
    "test_X = np.array(list(itertools.product(T, B, L, H, F, S))).T"
   ]
  },
  {
   "cell_type": "code",
   "execution_count": 70,
   "metadata": {},
   "outputs": [
    {
     "data": {
      "text/plain": [
       "(6, 1771561)"
      ]
     },
     "execution_count": 70,
     "metadata": {},
     "output_type": "execute_result"
    }
   ],
   "source": [
    "test_X.shape"
   ]
  },
  {
   "cell_type": "code",
   "execution_count": 56,
   "metadata": {},
   "outputs": [],
   "source": [
    "sim = simulator(test_X)"
   ]
  },
  {
   "cell_type": "code",
   "execution_count": 73,
   "metadata": {},
   "outputs": [
    {
     "name": "stdout",
     "output_type": "stream",
     "text": [
      "0001-th step: f(x) = [-1.25e-03 -5.00e+10] (action = 5)\n",
      "   Pareto set updated.\n",
      "   the number of Pareto frontiers = 1 \n",
      "\n",
      "0002-th step: f(x) = [-0.00125 -0.4    ] (action = 1)\n",
      "   Pareto set updated.\n",
      "   the number of Pareto frontiers = 1 \n",
      "\n",
      "0003-th step: f(x) = [-0.00125 -0.4    ] (action = 2)\n",
      "   Pareto set updated.\n",
      "   the number of Pareto frontiers = 2 \n",
      "\n",
      "0004-th step: f(x) = [-1.25e-03 -4.00e+05] (action = 4)\n",
      "0005-th step: f(x) = [-0.00125 -0.4    ] (action = 0)\n",
      "   Pareto set updated.\n",
      "   the number of Pareto frontiers = 3 \n",
      "\n",
      "0006-th step: f(x) = [-0.00125 -0.4    ] (action = 3)\n",
      "   Pareto set updated.\n",
      "   the number of Pareto frontiers = 4 \n",
      "\n",
      "0006-th step: f(x) = [-0.00125 -0.4    ] (action = 3)\n",
      "0006-th step: f(x) = [-0.00125 -0.4    ] (action = 3)\n",
      "0006-th step: f(x) = [-0.00125 -0.4    ] (action = 3)\n",
      "0006-th step: f(x) = [-0.00125 -0.4    ] (action = 3)\n",
      "0006-th step: f(x) = [-0.00125 -0.4    ] (action = 3)\n",
      "0006-th step: f(x) = [-0.00125 -0.4    ] (action = 3)\n",
      "0006-th step: f(x) = [-0.00125 -0.4    ] (action = 3)\n",
      "0006-th step: f(x) = [-0.00125 -0.4    ] (action = 3)\n",
      "0006-th step: f(x) = [-0.00125 -0.4    ] (action = 3)\n",
      "0006-th step: f(x) = [-0.00125 -0.4    ] (action = 3)\n",
      "Start the initial hyper parameter searching ...\n"
     ]
    },
    {
     "name": "stderr",
     "output_type": "stream",
     "text": [
      "/Users/yocchan/.pyenv/versions/3.8.0/lib/python3.8/site-packages/physbo/gp/lik/gauss.py:156: RuntimeWarning: divide by zero encountered in log\n",
      "  return np.log(np.std(t) / 10)\n",
      "/Users/yocchan/.pyenv/versions/3.8.0/lib/python3.8/site-packages/physbo/gp/cov/gauss.py:385: RuntimeWarning: divide by zero encountered in log\n",
      "  params = np.append(np.log(width + 1e-8), np.log(scale))\n"
     ]
    },
    {
     "name": "stdout",
     "output_type": "stream",
     "text": [
      "Done\n",
      "\n",
      "Start the hyper parameter learning ...\n",
      "0 -th epoch marginal likelihood -49.748111107036515\n",
      "50 -th epoch marginal likelihood -49.74811110705423\n",
      "100 -th epoch marginal likelihood -49.74811110707194\n",
      "150 -th epoch marginal likelihood -49.748111107089635\n",
      "200 -th epoch marginal likelihood -49.74811110710733\n",
      "250 -th epoch marginal likelihood -49.74811110712502\n",
      "300 -th epoch marginal likelihood -49.7481111071427\n",
      "350 -th epoch marginal likelihood -49.74811110716036\n",
      "400 -th epoch marginal likelihood -49.74811110717804\n",
      "450 -th epoch marginal likelihood -49.7481111071957\n",
      "500 -th epoch marginal likelihood -49.748111107213354\n",
      "Done\n",
      "\n",
      "Start the initial hyper parameter searching ...\n",
      "Done\n",
      "\n",
      "Start the hyper parameter learning ...\n",
      "0 -th epoch marginal likelihood 460.020065557081\n",
      "50 -th epoch marginal likelihood 429.6374462297249\n",
      "100 -th epoch marginal likelihood 403.26885562570874\n",
      "150 -th epoch marginal likelihood 380.36388199909356\n",
      "200 -th epoch marginal likelihood 360.3421404849163\n",
      "250 -th epoch marginal likelihood 342.737926177017\n",
      "300 -th epoch marginal likelihood 327.1759545644061\n",
      "350 -th epoch marginal likelihood 313.35110886629263\n",
      "400 -th epoch marginal likelihood 301.0132843968196\n",
      "450 -th epoch marginal likelihood 289.95591472537365\n",
      "500 -th epoch marginal likelihood 280.0071905926857\n",
      "Done\n",
      "\n",
      "WARNING: All actions have already searched.\n"
     ]
    }
   ],
   "source": [
    "policy = physbo.search.discrete_multi.policy(test_X=test_X, num_objectives=2)\n",
    "policy.set_seed(0)\n",
    "\n",
    "policy.random_search(max_num_probes=16, simulator=sim)\n",
    "res_TS = policy.bayes_search(max_num_probes=40, simulator=sim, score='TS', interval=10)"
   ]
  },
  {
   "cell_type": "markdown",
   "metadata": {},
   "source": [
    "探査空間広すぎ、、、"
   ]
  },
  {
   "cell_type": "code",
   "execution_count": 77,
   "metadata": {},
   "outputs": [],
   "source": [
    "def plot_pareto_front(res):\n",
    "    front, front_num = res.export_pareto_front()\n",
    "    dominated = [i for i in range(res.num_runs) if i not in front_num]\n",
    "    points = res.fx[dominated, :]\n",
    "\n",
    "    plt.figure(figsize=(7, 7))\n",
    "    plt.scatter(res.fx[dominated,0], res.fx[dominated,1], c = \"blue\")\n",
    "    plt.scatter(front[:, 0], front[:, 1], c = \"red\")\n",
    "    plt.title('Pareto front')\n",
    "    plt.xlabel('Objective 1')\n",
    "    plt.ylabel('Objective 2')\n",
    "    #plt.xlim([-1.0,0.0])\n",
    "    #plt.ylim([-1.0,0.0])"
   ]
  },
  {
   "cell_type": "code",
   "execution_count": 78,
   "metadata": {},
   "outputs": [
    {
     "data": {
      "image/png": "[encoded data removed]",
      "text/plain": [
       "<Figure size 504x504 with 1 Axes>"
      ]
     },
     "metadata": {
      "needs_background": "light"
     },
     "output_type": "display_data"
    }
   ],
   "source": [
    "plot_pareto_front(res_TS)"
   ]
  },
  {
   "cell_type": "code",
   "execution_count": 80,
   "metadata": {},
   "outputs": [],
   "source": [
    "front, front_num = res_TS.export_pareto_front()"
   ]
  },
  {
   "cell_type": "code",
   "execution_count": 82,
   "metadata": {},
   "outputs": [
    {
     "data": {
      "text/plain": [
       "array([1, 2, 4, 5])"
      ]
     },
     "execution_count": 82,
     "metadata": {},
     "output_type": "execute_result"
    }
   ],
   "source": [
    "front_num"
   ]
  },
  {
   "cell_type": "code",
   "execution_count": 85,
   "metadata": {},
   "outputs": [
    {
     "data": {
      "text/plain": [
       "<matplotlib.collections.PathCollection at 0x116ddcbe0>"
      ]
     },
     "execution_count": 85,
     "metadata": {},
     "output_type": "execute_result"
    },
    {
     "data": {
      "image/png": "[encoded data removed]",
      "text/plain": [
       "<Figure size 432x288 with 1 Axes>"
      ]
     },
     "metadata": {
      "needs_background": "light"
     },
     "output_type": "display_data"
    }
   ],
   "source": [
    "plt.scatter(res_TS.fx[0], res_TS.fx[0])"
   ]
  },
  {
   "cell_type": "code",
   "execution_count": 89,
   "metadata": {},
   "outputs": [
    {
     "data": {
      "text/plain": [
       "array([-1.25e-03, -5.00e+10])"
      ]
     },
     "execution_count": 89,
     "metadata": {},
     "output_type": "execute_result"
    }
   ],
   "source": [
    "res_TS.fx[0]"
   ]
  },
  {
   "cell_type": "code",
   "execution_count": null,
   "metadata": {},
   "outputs": [],
   "source": []
  }
 ],
 "metadata": {
  "kernelspec": {
   "display_name": "Python 3",
   "language": "python",
   "name": "python3"
  },
  "language_info": {
   "codemirror_mode": {
    "name": "ipython",
    "version": 3
   },
   "file_extension": ".py",
   "mimetype": "text/x-python",
   "name": "python",
   "nbconvert_exporter": "python",
   "pygments_lexer": "ipython3",
   "version": "3.8.0"
  }
 },
 "nbformat": 4,
 "nbformat_minor": 4
}
